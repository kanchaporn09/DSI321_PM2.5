{
 "cells": [
  {
   "cell_type": "code",
   "execution_count": 1,
   "id": "c9cdb9f6",
   "metadata": {},
   "outputs": [
    {
     "data": {
      "text/html": [
       "<pre style=\"white-space:pre;overflow-x:auto;line-height:normal;font-family:Menlo,'DejaVu Sans Mono',consolas,'Courier New',monospace\">20:12:44.416 | <span style=\"color: #008080; text-decoration-color: #008080\">INFO</span>    | prefect - Starting temporary server on <span style=\"color: #0000ff; text-decoration-color: #0000ff\">http://127.0.0.1:8156</span>\n",
       "See <span style=\"color: #0000ff; text-decoration-color: #0000ff\">https://docs.prefect.io/3.0/manage/self-host#self-host-a-prefect-server</span> for more information on running a dedicated Prefect server.\n",
       "</pre>\n"
      ],
      "text/plain": [
       "20:12:44.416 | \u001b[36mINFO\u001b[0m    | prefect - Starting temporary server on \u001b[94mhttp://127.0.0.1:8156\u001b[0m\n",
       "See \u001b[94mhttps://docs.prefect.io/3.0/manage/self-host#self-host-a-prefect-server\u001b[0m for more information on running a dedicated Prefect server.\n"
      ]
     },
     "metadata": {},
     "output_type": "display_data"
    },
    {
     "data": {
      "text/html": [
       "<pre style=\"white-space:pre;overflow-x:auto;line-height:normal;font-family:Menlo,'DejaVu Sans Mono',consolas,'Courier New',monospace\">20:12:46.049 | <span style=\"color: #008080; text-decoration-color: #008080\">INFO</span>    | Flow run<span style=\"color: #800080; text-decoration-color: #800080\"> 'ethereal-crocodile'</span> - Beginning flow run<span style=\"color: #800080; text-decoration-color: #800080\"> 'ethereal-crocodile'</span> for flow<span style=\"color: #800080; text-decoration-color: #800080; font-weight: bold\"> 'hello_flow: 3.detailed_logger'</span>\n",
       "</pre>\n"
      ],
      "text/plain": [
       "20:12:46.049 | \u001b[36mINFO\u001b[0m    | Flow run\u001b[35m 'ethereal-crocodile'\u001b[0m - Beginning flow run\u001b[35m 'ethereal-crocodile'\u001b[0m for flow\u001b[1;35m 'hello_flow: 3.detailed_logger'\u001b[0m\n"
      ]
     },
     "metadata": {},
     "output_type": "display_data"
    },
    {
     "data": {
      "text/html": [
       "<pre style=\"white-space:pre;overflow-x:auto;line-height:normal;font-family:Menlo,'DejaVu Sans Mono',consolas,'Courier New',monospace\">20:12:46.066 | <span style=\"color: #d7d700; text-decoration-color: #d7d700\">WARNING</span> | Task run 'say_hello-f54' - &gt;&gt;&gt; This is a <span style=\"color: #d7d700; text-decoration-color: #d7d700\">WARNING</span> message from my_task.\n",
       "</pre>\n"
      ],
      "text/plain": [
       "20:12:46.066 | \u001b[38;5;184mWARNING\u001b[0m | Task run 'say_hello-f54' - >>> This is a \u001b[38;5;184mWARNING\u001b[0m message from my_task.\n"
      ]
     },
     "metadata": {},
     "output_type": "display_data"
    },
    {
     "data": {
      "text/html": [
       "<pre style=\"white-space:pre;overflow-x:auto;line-height:normal;font-family:Menlo,'DejaVu Sans Mono',consolas,'Courier New',monospace\">20:12:46.068 | <span style=\"color: #008080; text-decoration-color: #008080\">INFO</span>    | Task run 'say_hello-f54' - Finished in state <span style=\"color: #008000; text-decoration-color: #008000\">Completed</span>()\n",
       "</pre>\n"
      ],
      "text/plain": [
       "20:12:46.068 | \u001b[36mINFO\u001b[0m    | Task run 'say_hello-f54' - Finished in state \u001b[32mCompleted\u001b[0m()\n"
      ]
     },
     "metadata": {},
     "output_type": "display_data"
    },
    {
     "data": {
      "text/html": [
       "<pre style=\"white-space:pre;overflow-x:auto;line-height:normal;font-family:Menlo,'DejaVu Sans Mono',consolas,'Courier New',monospace\">20:12:46.079 | <span style=\"color: #008080; text-decoration-color: #008080\">INFO</span>    | Task run 'get_name-731' - &gt;&gt;&gt; This is an <span style=\"color: #008080; text-decoration-color: #008080\">INFO</span> message from my_task.\n",
       "</pre>\n"
      ],
      "text/plain": [
       "20:12:46.079 | \u001b[36mINFO\u001b[0m    | Task run 'get_name-731' - >>> This is an \u001b[36mINFO\u001b[0m message from my_task.\n"
      ]
     },
     "metadata": {},
     "output_type": "display_data"
    },
    {
     "data": {
      "text/html": [
       "<pre style=\"white-space:pre;overflow-x:auto;line-height:normal;font-family:Menlo,'DejaVu Sans Mono',consolas,'Courier New',monospace\">20:12:46.082 | <span style=\"color: #008080; text-decoration-color: #008080\">INFO</span>    | Task run 'get_name-731' - Finished in state <span style=\"color: #008000; text-decoration-color: #008000\">Completed</span>()\n",
       "</pre>\n"
      ],
      "text/plain": [
       "20:12:46.082 | \u001b[36mINFO\u001b[0m    | Task run 'get_name-731' - Finished in state \u001b[32mCompleted\u001b[0m()\n"
      ]
     },
     "metadata": {},
     "output_type": "display_data"
    },
    {
     "name": "stdout",
     "output_type": "stream",
     "text": [
      ">>> Print statements are also captured.\n"
     ]
    },
    {
     "data": {
      "text/html": [
       "<pre style=\"white-space:pre;overflow-x:auto;line-height:normal;font-family:Menlo,'DejaVu Sans Mono',consolas,'Courier New',monospace\">20:12:46.112 | <span style=\"color: #008080; text-decoration-color: #008080\">INFO</span>    | Flow run<span style=\"color: #800080; text-decoration-color: #800080\"> 'ethereal-crocodile'</span> - Finished in state <span style=\"color: #008000; text-decoration-color: #008000\">Completed</span>()\n",
       "</pre>\n"
      ],
      "text/plain": [
       "20:12:46.112 | \u001b[36mINFO\u001b[0m    | Flow run\u001b[35m 'ethereal-crocodile'\u001b[0m - Finished in state \u001b[32mCompleted\u001b[0m()\n"
      ]
     },
     "metadata": {},
     "output_type": "display_data"
    }
   ],
   "source": [
    "from prefect import flow, task, get_run_logger\n",
    "\n",
    "@task\n",
    "def say_hello():\n",
    "    logger = get_run_logger()\n",
    "    logger.warning(\">>> This is a WARNING message from my_task.\")\n",
    "    return \"Hello, \"\n",
    "\n",
    "@task\n",
    "def get_name():\n",
    "    logger = get_run_logger()\n",
    "    logger.info(\">>> This is an INFO message from my_task.\")\n",
    "    return \"DSI321: Big Data Infrastructure\"\n",
    "    \n",
    "@flow(name=\"hello_flow: 3.detailed_logger\")\n",
    "def hello_flow():\n",
    "    result = say_hello() + get_name() + \"!\"\n",
    "    print(\">>> Print statements are also captured.\")\n",
    "    return result\n",
    "\n",
    "if __name__ == '__main__':\n",
    "    hello_flow()"
   ]
  }
 ],
 "metadata": {
  "kernelspec": {
   "display_name": "Python 3",
   "language": "python",
   "name": "python3"
  },
  "language_info": {
   "codemirror_mode": {
    "name": "ipython",
    "version": 3
   },
   "file_extension": ".py",
   "mimetype": "text/x-python",
   "name": "python",
   "nbconvert_exporter": "python",
   "pygments_lexer": "ipython3",
   "version": "3.11.1"
  }
 },
 "nbformat": 4,
 "nbformat_minor": 5
}
